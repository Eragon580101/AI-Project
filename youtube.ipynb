{
 "cells": [
  {
   "cell_type": "code",
   "execution_count": 6,
   "metadata": {},
   "outputs": [
    {
     "name": "stdout",
     "output_type": "stream",
     "text": [
      "[('funny', 3603), ('comedy', 2931), ('how to', 1604), ('[none]', 1535), ('music', 1302), ('Pop', 1280), ('2018', 1275), ('humor', 1185), ('food', 1159), ('science', 1111)]\n"
     ]
    }
   ],
   "source": [
    "import pandas as pd\n",
    "from collections import Counter\n",
    "df = pd.read_csv('USvideos.csv')\n"
   ]
  }
 ],
 "metadata": {
  "kernelspec": {
   "display_name": "Python 3",
   "language": "python",
   "name": "python3"
  },
  "language_info": {
   "codemirror_mode": {
    "name": "ipython",
    "version": 3
   },
   "file_extension": ".py",
   "mimetype": "text/x-python",
   "name": "python",
   "nbconvert_exporter": "python",
   "pygments_lexer": "ipython3",
   "version": "3.10.8"
  },
  "vscode": {
   "interpreter": {
    "hash": "ba5d94f62e30e8b1b01b17313d2a281ee0519d837e76fb5b54c3af626b4b540f"
   }
  }
 },
 "nbformat": 4,
 "nbformat_minor": 4
}
